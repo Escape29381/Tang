{
 "cells": [
  {
   "cell_type": "code",
   "execution_count": 1,
   "id": "3187ab04-eb9e-4c4b-b7b6-9f083bef2adf",
   "metadata": {},
   "outputs": [
    {
     "data": {
      "text/plain": [
       "123"
      ]
     },
     "execution_count": 1,
     "metadata": {},
     "output_type": "execute_result"
    }
   ],
   "source": [
    "123"
   ]
  },
  {
   "cell_type": "code",
   "execution_count": 2,
   "id": "b6ad30b7-8cb6-476c-b645-ab973ed2b570",
   "metadata": {},
   "outputs": [
    {
     "data": {
      "text/plain": [
       "int"
      ]
     },
     "execution_count": 2,
     "metadata": {},
     "output_type": "execute_result"
    }
   ],
   "source": [
    "type(123)"
   ]
  },
  {
   "cell_type": "code",
   "execution_count": 3,
   "id": "a9e6608e-2dd3-43fb-9a13-366946d7b698",
   "metadata": {},
   "outputs": [
    {
     "data": {
      "text/plain": [
       "123.45"
      ]
     },
     "execution_count": 3,
     "metadata": {},
     "output_type": "execute_result"
    }
   ],
   "source": [
    "123.45"
   ]
  },
  {
   "cell_type": "code",
   "execution_count": 4,
   "id": "fd0a3b94-13ca-48b4-91be-0cadc5f6213b",
   "metadata": {},
   "outputs": [
    {
     "data": {
      "text/plain": [
       "float"
      ]
     },
     "execution_count": 4,
     "metadata": {},
     "output_type": "execute_result"
    }
   ],
   "source": [
    "type(123.45)"
   ]
  },
  {
   "cell_type": "code",
   "execution_count": 5,
   "id": "d08742c2-478c-48b0-beb3-8b8e67b5146d",
   "metadata": {},
   "outputs": [
    {
     "name": "stdout",
     "output_type": "stream",
     "text": [
      "<class 'bool'>\n"
     ]
    }
   ],
   "source": [
    "sign_up = True\n",
    "print(type(sign_up))"
   ]
  },
  {
   "cell_type": "code",
   "execution_count": 6,
   "id": "5a3d5820-df31-4ce6-a094-9259d7548659",
   "metadata": {},
   "outputs": [
    {
     "name": "stdout",
     "output_type": "stream",
     "text": [
      "123 123.45 123.45\n",
      "<class 'int'> <class 'float'> <class 'str'>\n"
     ]
    }
   ],
   "source": [
    "x = 123\n",
    "y = 123.45\n",
    "z = '123.45'\n",
    "print(x,y,z)\n",
    "print(type(x),type(y),type(z),)"
   ]
  },
  {
   "cell_type": "code",
   "execution_count": 18,
   "id": "ee9ac37a-62e9-460e-95a5-bad3b6cf0406",
   "metadata": {},
   "outputs": [
    {
     "name": "stdout",
     "output_type": "stream",
     "text": [
      "<class 'str'>\n",
      "The result of123+123.45=246.45\n"
     ]
    }
   ],
   "source": [
    "x = 123\n",
    "y = 123.45\n",
    "z = 'The result of' +str(x) + '+' + str(y) + '=' +str(x+y)\n",
    "print(type(str(y)))\n",
    "print(z)"
   ]
  },
  {
   "cell_type": "code",
   "execution_count": 21,
   "id": "b22594c3-3660-4aa4-aa0d-3c7c29e54330",
   "metadata": {},
   "outputs": [
    {
     "name": "stdout",
     "output_type": "stream",
     "text": [
      "I am\n",
      "I am from CUC.\n",
      "CUC.\n"
     ]
    }
   ],
   "source": [
    "z = 'I am from CUC.'\n",
    "print(z[0:4])\n",
    "print(z[0:14])\n",
    "print(z[-4:])"
   ]
  },
  {
   "cell_type": "code",
   "execution_count": 22,
   "id": "57fff6e1-086f-440c-8972-9429ba6b8019",
   "metadata": {},
   "outputs": [
    {
     "name": "stdout",
     "output_type": "stream",
     "text": [
      "14\n",
      "I am from CUC\n",
      "UC.\n",
      "CUC\n"
     ]
    }
   ],
   "source": [
    "print(len(z))\n",
    "print(z[0:13])\n",
    "print(z[-3:])\n",
    "print(z[10:13])"
   ]
  },
  {
   "cell_type": "code",
   "execution_count": 28,
   "id": "f64376cf-762f-4ab8-adde-7d8de39ff2ec",
   "metadata": {},
   "outputs": [
    {
     "name": "stdout",
     "output_type": "stream",
     "text": [
      "Princess Diana\n",
      "Princess Diana Princess Kate\n",
      "['Princess', 'Diana']\n"
     ]
    }
   ],
   "source": [
    "famous_person = 'Princess Diana'\n",
    "print(famous_person)\n",
    "famous_person2 = famous_person.replace('Diana',\"Kate\")\n",
    "print(famous_person, famous_person2)\n",
    "print(famous_person.split())"
   ]
  },
  {
   "cell_type": "code",
   "execution_count": 31,
   "id": "3933d075-d632-4bed-8e44-b414163c8f99",
   "metadata": {},
   "outputs": [
    {
     "name": "stdout",
     "output_type": "stream",
     "text": [
      "3.14\n"
     ]
    },
    {
     "data": {
      "text/plain": [
       "str"
      ]
     },
     "execution_count": 31,
     "metadata": {},
     "output_type": "execute_result"
    }
   ],
   "source": [
    "x = 3.14\n",
    "y = str(x)\n",
    "print(y)\n",
    "type(y)"
   ]
  },
  {
   "cell_type": "code",
   "execution_count": null,
   "id": "a2829b3c-309c-4be2-b8df-96f085a0b3e7",
   "metadata": {},
   "outputs": [],
   "source": []
  },
  {
   "cell_type": "code",
   "execution_count": 7,
   "id": "7d70a02e-1c8c-4445-9c80-544924ad701b",
   "metadata": {},
   "outputs": [
    {
     "name": "stdout",
     "output_type": "stream",
     "text": [
      "(1, 1.32, 2, 'CUC')\n",
      "[1, 1.32, 2, 'CUC']\n"
     ]
    }
   ],
   "source": [
    "tuple1 = (1,1.32,2,'CUC')\n",
    "print(tuple1)\n",
    "list1 = [1,1.32,2,'CUC']\n",
    "print(list1)"
   ]
  },
  {
   "cell_type": "code",
   "execution_count": 8,
   "id": "ce5667a5-6553-44f8-9c34-8c910b50a4a8",
   "metadata": {},
   "outputs": [
    {
     "name": "stdout",
     "output_type": "stream",
     "text": [
      "[1, 2, 3, 4, 5]\n"
     ]
    }
   ],
   "source": [
    "myList = [1,2,3,5,4]\n",
    "print(sorted(myList))"
   ]
  },
  {
   "cell_type": "code",
   "execution_count": 9,
   "id": "2af95883-bee0-46d6-ae84-3c36b34ebf98",
   "metadata": {},
   "outputs": [
    {
     "name": "stdout",
     "output_type": "stream",
     "text": [
      "[100, 95, 85, 60, 65, 70]\n",
      "60\n",
      "[100, 95, 85, 60, 65, 70, 50]\n"
     ]
    }
   ],
   "source": [
    "score_list = [100,95,85,60,65,70]\n",
    "print(score_list)\n",
    "print(score_list[3])\n",
    "score_list.append(50)\n",
    "print(score_list)"
   ]
  },
  {
   "cell_type": "code",
   "execution_count": 10,
   "id": "04557e4a-0fc6-4248-823d-ce860a372e86",
   "metadata": {},
   "outputs": [
    {
     "name": "stdout",
     "output_type": "stream",
     "text": [
      "[60, 65, 70]\n",
      "[100, 95, 85, 60, 65, 70]\n"
     ]
    }
   ],
   "source": [
    "del(score_list[6])\n",
    "print(score_list[3:7])\n",
    "print(score_list)"
   ]
  },
  {
   "cell_type": "code",
   "execution_count": 11,
   "id": "67ea65e8-c47a-4fbe-9697-f127c45ef4e7",
   "metadata": {},
   "outputs": [
    {
     "name": "stdout",
     "output_type": "stream",
     "text": [
      "[100, 95, 85, 60, 65, 70, [1, 2, 3, 'I an from CUC', True]]\n"
     ]
    }
   ],
   "source": [
    "score_list.append([1,2,3,'I an from CUC',True])\n",
    "print(score_list)"
   ]
  },
  {
   "cell_type": "code",
   "execution_count": 12,
   "id": "30cb579b-1621-4a64-a50c-086f051c0957",
   "metadata": {},
   "outputs": [
    {
     "name": "stdout",
     "output_type": "stream",
     "text": [
      "[100, 95, 85, 60, 65, 70, [1, 2, 3, 'I an from CUC', True], [11, 22, 33, [44, 55, 66]]]\n"
     ]
    }
   ],
   "source": [
    "second_list = [11,22,33]\n",
    "second_list.append([44,55,66])\n",
    "score_list.append(second_list)\n",
    "print(score_list)"
   ]
  },
  {
   "cell_type": "code",
   "execution_count": 13,
   "id": "bb549e9c-5071-43c7-bf5a-7c3f3b85d88a",
   "metadata": {},
   "outputs": [
    {
     "name": "stdout",
     "output_type": "stream",
     "text": [
      "[95, 85, 60, 65, 70, [1, 2, 3, 'I an from CUC', True], [11, 22, 33, [44, 55, 66]]]\n"
     ]
    }
   ],
   "source": [
    "score_list.remove(100)\n",
    "print(score_list)"
   ]
  },
  {
   "cell_type": "code",
   "execution_count": 14,
   "id": "ec59964b-bfd9-4a6f-af5a-e848ab7f88bc",
   "metadata": {},
   "outputs": [
    {
     "name": "stdout",
     "output_type": "stream",
     "text": [
      "{'Peter': 80, 'David': 90, 'Mary': 100}\n",
      "dict_keys(['Peter', 'David', 'Mary'])\n",
      "dict_values([80, 90, 100])\n",
      "90\n",
      "[{'Peter': 80, 'David': 90, 'Mary': 100}]\n"
     ]
    }
   ],
   "source": [
    "dict1 = {'Peter':80,'David':90,'Mary':100}\n",
    "print(dict1)\n",
    "print(dict1.keys())\n",
    "print(dict1.values())\n",
    "print(dict1['David'])\n",
    "score_list = []\n",
    "score_list.append(dict1)\n",
    "print(score_list)"
   ]
  },
  {
   "cell_type": "code",
   "execution_count": 15,
   "id": "11a37108-ea98-46ff-b89a-2225e7eda40f",
   "metadata": {},
   "outputs": [
    {
     "name": "stdout",
     "output_type": "stream",
     "text": [
      "[{'Peter': 50, 'David': 60, 'Mary': 70}, {'Peter': 50, 'David': 70, 'Mary': 80}]\n"
     ]
    }
   ],
   "source": [
    "test1 = {'Peter':50,'David':60,'Mary':70}\n",
    "assignment1 = {'Peter':50,'David':70,'Mary':80}\n",
    "score_list = []\n",
    "score_list.append(test1)\n",
    "score_list.append(assignment1)\n",
    "print(score_list)"
   ]
  },
  {
   "cell_type": "code",
   "execution_count": 16,
   "id": "70785d74-3d70-43a5-9d61-df2b9e1fe990",
   "metadata": {},
   "outputs": [
    {
     "name": "stdout",
     "output_type": "stream",
     "text": [
      "{1, (1, 2, 3), 'Hello'}\n",
      "<class 'set'>\n"
     ]
    }
   ],
   "source": [
    "my_set={1,'Hello',(1,2,3)}\n",
    "print(my_set)\n",
    "print(type(my_set))"
   ]
  },
  {
   "cell_type": "code",
   "execution_count": 19,
   "id": "0f6974ff-ad8a-4508-9652-47680452f8c9",
   "metadata": {},
   "outputs": [
    {
     "name": "stdout",
     "output_type": "stream",
     "text": [
      "{1, 2, 3, 4, 5}\n"
     ]
    }
   ],
   "source": [
    "my_set = {1,2,2,3,4,4,5}\n",
    "print(my_set)"
   ]
  },
  {
   "cell_type": "code",
   "execution_count": 20,
   "id": "b19bc100-975e-443f-b4f3-7bba39faddb5",
   "metadata": {},
   "outputs": [
    {
     "name": "stdout",
     "output_type": "stream",
     "text": [
      "1\n",
      "2\n",
      "3\n",
      "4\n",
      "5\n",
      "6\n",
      "7\n",
      "8\n",
      "9\n"
     ]
    }
   ],
   "source": [
    "i=1\n",
    "for i in range(1,10):\n",
    "    print(i)"
   ]
  },
  {
   "cell_type": "code",
   "execution_count": 26,
   "id": "7f0da21b-3cf4-4aac-a25e-0da26bce2c01",
   "metadata": {},
   "outputs": [
    {
     "name": "stdout",
     "output_type": "stream",
     "text": [
      "John makes 1950.\n",
      "Mike makes 3000.\n",
      "Mary makes 3250.\n",
      "Jane makes 4500.\n"
     ]
    }
   ],
   "source": [
    "hrs_list = [30,40,50,60]\n",
    "rate_list = [65,75,65,75]\n",
    "name_list = ['John','Mike','Mary','Jane']\n",
    "fee_list = []\n",
    "for number in range(len(name_list)):\n",
    "    hrs = hrs_list[number]\n",
    "    rate = rate_list[number]\n",
    "    fee = hrs*rate\n",
    "    fee_list.append(fee)\n",
    "    money_made = name_list[number] + ' makes ' + str(fee) +'.'\n",
    "    print(money_made)"
   ]
  },
  {
   "cell_type": "code",
   "execution_count": 29,
   "id": "aaa13083-48c9-48f8-b2e9-e67cffdd2552",
   "metadata": {},
   "outputs": [
    {
     "name": "stdout",
     "output_type": "stream",
     "text": [
      "[['John', 'Mike', 'Mary', 'Jane'], [1950, 3000, 3250, 4500]]\n"
     ]
    }
   ],
   "source": [
    "money_list=[]\n",
    "money_list.append(name_list)\n",
    "money_list.append(fee_list)\n",
    "print(money_list)"
   ]
  },
  {
   "cell_type": "code",
   "execution_count": 30,
   "id": "17652e1c-7ae7-4b90-ae88-72efcdb90adb",
   "metadata": {},
   "outputs": [
    {
     "name": "stdout",
     "output_type": "stream",
     "text": [
      "0 red\n",
      "1 green\n",
      "2 Blue is printed.\n",
      "3 orange\n",
      "4 black\n",
      "This is done.\n"
     ]
    }
   ],
   "source": [
    "my_list = ['red','green','blue','orange','black']\n",
    "index = 0\n",
    "for i in my_list:\n",
    "    if i== 'blue':\n",
    "        print(index,'Blue is printed.')\n",
    "        index+=1\n",
    "    else:\n",
    "        print(index,my_list[index])\n",
    "        index = index+1\n",
    "print('This is done.')"
   ]
  },
  {
   "cell_type": "code",
   "execution_count": 33,
   "id": "8ace9e7e-44a6-45d8-ad11-053beb27ccce",
   "metadata": {},
   "outputs": [
    {
     "name": "stdout",
     "output_type": "stream",
     "text": [
      "   Product ID Product Name   Color  Unit sold\n",
      "0           1      T-shirt    Blue        250\n",
      "1           2        Shirt   Green        300\n",
      "2           3        Jeans     Red        180\n",
      "3           4         Coat  Trench        200\n"
     ]
    }
   ],
   "source": [
    "import pandas as pd\n",
    "df1 = pd.DataFrame({\n",
    "    #Define dataframe as a dictionary abject\n",
    "    'Product ID' : [1,2,3,4],\n",
    "    #Add product name and color\n",
    "    'Product Name':['T-shirt','Shirt','Jeans','Coat'],\n",
    "    'Color':['Blue','Green','Red','Trench'],\n",
    "    'Unit sold':[250,300,180,200]\n",
    "})\n",
    "print(df1)"
   ]
  },
  {
   "cell_type": "code",
   "execution_count": null,
   "id": "133b3782-3d1e-442a-818d-1062133ee591",
   "metadata": {},
   "outputs": [],
   "source": []
  }
 ],
 "metadata": {
  "kernelspec": {
   "display_name": "anaconda-panel-2023.05-py310",
   "language": "python",
   "name": "conda-env-anaconda-panel-2023.05-py310-py"
  },
  "language_info": {
   "codemirror_mode": {
    "name": "ipython",
    "version": 3
   },
   "file_extension": ".py",
   "mimetype": "text/x-python",
   "name": "python",
   "nbconvert_exporter": "python",
   "pygments_lexer": "ipython3",
   "version": "3.11.5"
  }
 },
 "nbformat": 4,
 "nbformat_minor": 5
}
